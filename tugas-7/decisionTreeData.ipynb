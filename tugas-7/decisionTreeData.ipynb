{
 "cells": [
  {
   "cell_type": "code",
   "execution_count": 34,
   "metadata": {},
   "outputs": [],
   "source": [
    "import numpy as np\n",
    "import pandas as pd\n",
    "from sklearn import tree\n",
    "\n",
    "dataset = pd.read_excel('./Obesity_Dataset.xlsx')\n",
    "dataset = dataset.to_numpy()"
   ]
  },
  {
   "cell_type": "code",
   "execution_count": 36,
   "metadata": {},
   "outputs": [],
   "source": [
    "dataTraining = np.concatenate((dataset[0:40,:],\n",
    "                              dataset[50:90,:]),axis=0)\n",
    "dataTesting = np.concatenate((dataset[40:50,:],\n",
    "                              dataset[90:100,:]),axis=0)\n",
    "inputTraining = dataTraining[:,0:4]\n",
    "inputTesting = dataTesting[:,0:4]\n",
    "labelTraining = dataTraining[:,4]\n",
    "labelTesting = dataTesting[:, 4]"
   ]
  },
  {
   "cell_type": "code",
   "execution_count": 39,
   "metadata": {},
   "outputs": [
    {
     "name": "stdout",
     "output_type": "stream",
     "text": [
      "label sebenarnya:  [2 2 2 2 2 2 2 2 2 2 2 2 2 1 2 2 2 2 2 2]\n",
      "hasil prediksi:  [2 1 2 2 2 1 1 1 1 1 2 2 2 2 2 2 2 2 2 2]\n",
      "prediksi benar:  13\n",
      "prediksi salah:  7\n",
      "akurasi:  65.0 %\n"
     ]
    }
   ],
   "source": [
    "model = tree.DecisionTreeClassifier()\n",
    "model = model.fit(inputTraining, labelTraining)\n",
    "hasilPrediksi = model.predict(inputTesting)\n",
    "print('label sebenarnya: ', labelTesting)\n",
    "print('hasil prediksi: ', hasilPrediksi)\n",
    "\n",
    "prediksiBenar = (hasilPrediksi == labelTesting).sum()\n",
    "prediksiSalah = (hasilPrediksi != labelTesting).sum()\n",
    "print(\"prediksi benar: \", prediksiBenar)\n",
    "print(\"prediksi salah: \", prediksiSalah)\n",
    "print(\"akurasi: \", prediksiBenar/(prediksiBenar+prediksiSalah)*100, \"%\")\n"
   ]
  }
 ],
 "metadata": {
  "kernelspec": {
   "display_name": "Python 3",
   "language": "python",
   "name": "python3"
  },
  "language_info": {
   "codemirror_mode": {
    "name": "ipython",
    "version": 3
   },
   "file_extension": ".py",
   "mimetype": "text/x-python",
   "name": "python",
   "nbconvert_exporter": "python",
   "pygments_lexer": "ipython3",
   "version": "3.12.3"
  }
 },
 "nbformat": 4,
 "nbformat_minor": 2
}
